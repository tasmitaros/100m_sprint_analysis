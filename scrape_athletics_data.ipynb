{
 "cells": [
  {
   "cell_type": "markdown",
   "id": "0f144a28-3ddd-4cc8-915a-fad796bd8693",
   "metadata": {},
   "source": [
    "## Scrape Athletics Data From World Athletics"
   ]
  },
  {
   "cell_type": "markdown",
   "id": "d92f1288-7009-4db2-a87f-feae194adb60",
   "metadata": {},
   "source": [
    "The below script scrapes the athletics data from [worldathletics.org](https://worldathletics.org/records/all-time-toplists/sprints/100-metres/outdoor/men/senior?regionType=world&timing=electronic&windReading=regular&page=1&bestResultsOnly=false&firstDay=1900-01-01&lastDay=2021-09-20) for the men's 100 metres sprint across all years and writes it to a csv file for subsequent analysis."
   ]
  },
  {
   "cell_type": "markdown",
   "id": "d3057ed9-43a2-4068-9b01-14b79f30130f",
   "metadata": {},
   "source": [
    "#### Import libraries"
   ]
  },
  {
   "cell_type": "code",
   "execution_count": null,
   "id": "a4f07bc7-e631-4300-b78b-ffc32b3e4c1c",
   "metadata": {},
   "outputs": [],
   "source": [
    "import time\n",
    "import requests\n",
    "import polars as pl\n",
    "from datetime import date\n",
    "from bs4 import BeautifulSoup"
   ]
  },
  {
   "cell_type": "markdown",
   "id": "e71ae534-068f-4ba6-803d-623d67423a37",
   "metadata": {},
   "source": [
    "#### Specify URL with parametres"
   ]
  },
  {
   "cell_type": "code",
   "execution_count": null,
   "id": "420c02a9-ccfc-447c-9554-7900b94d4d60",
   "metadata": {},
   "outputs": [],
   "source": [
    "# base URL to download from including pagination number\n",
    "base_url = \"https://worldathletics.org/records/all-time-toplists/sprints/100-metres/outdoor/men/senior?regionType=world&timing=electronic&windReading=regular&page={}&bestResultsOnly=false&firstDay=1900-01-01&lastDay={}\""
   ]
  },
  {
   "cell_type": "markdown",
   "id": "77b4bb77-1bb7-4f13-bc8c-4d6287bf79b4",
   "metadata": {},
   "source": [
    "#### Iterate over all pages and write to csv"
   ]
  },
  {
   "cell_type": "code",
   "execution_count": null,
   "id": "c5ae56ae-5cb3-46a3-a9a6-1472d23f40fc",
   "metadata": {},
   "outputs": [],
   "source": [
    "all_records = [] # initialise empty list to store the data\n",
    "\n",
    "page = 1 # starting page\n",
    "today_str = str(date.today()) # end date range\n",
    "max_pages = 500 # page limit to force break if required\n",
    "\n",
    "while True:\n",
    "    \n",
    "    url = base_url.format(page, today_str) # pass page number and today's date as params into url\n",
    "    response = requests.get(url)\n",
    "    soup = BeautifulSoup(response.text, 'html.parser')\n",
    "\n",
    "    table_rows = soup.select('tr') # extract data from each row in the table\n",
    "\n",
    "    # break loop if no more data\n",
    "    if not table_rows or page > max_pages:\n",
    "        break\n",
    "\n",
    "    print(f'Retrieving data for page {page}')\n",
    "    \n",
    "    # loop through rows and extract data\n",
    "    for row in table_rows:\n",
    "        columns = row.find_all('td')\n",
    "        if columns:\n",
    "            record = {\n",
    "                \"Rank\": columns[0].text.strip(),\n",
    "                \"Mark\": columns[1].text.strip(),\n",
    "                \"WIND\": columns[2].text.strip(),\n",
    "                \"Competitor\": columns[3].text.strip(),\n",
    "                \"DOB\": columns[4].text.strip(),\n",
    "                \"Nat\": columns[5].text.strip(),\n",
    "                \"Pos\": columns[6].text.strip(),\n",
    "                \"Venue\": columns[8].text.strip(),\n",
    "                \"Date\": columns[9].text.strip(),\n",
    "                \"Results Score\": columns[10].text.strip()\n",
    "            }\n",
    "            all_records.append(record)\n",
    "\n",
    "    page += 1\n",
    "    time.sleep(1)\n",
    "\n",
    "df = pl.DataFrame(all_records)\n",
    "df.write_csv(\"100m_sprint_records.csv\")\n",
    "\n",
    "print(\"Operation complete!\")"
   ]
  }
 ],
 "metadata": {
  "kernelspec": {
   "display_name": "Python 3 (ipykernel)",
   "language": "python",
   "name": "python3"
  },
  "language_info": {
   "codemirror_mode": {
    "name": "ipython",
    "version": 3
   },
   "file_extension": ".py",
   "mimetype": "text/x-python",
   "name": "python",
   "nbconvert_exporter": "python",
   "pygments_lexer": "ipython3",
   "version": "3.12.7"
  }
 },
 "nbformat": 4,
 "nbformat_minor": 5
}
